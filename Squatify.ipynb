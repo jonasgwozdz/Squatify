{
 "cells": [
  {
   "cell_type": "markdown",
   "metadata": {},
   "source": [
    "# Imports & Config"
   ]
  },
  {
   "cell_type": "code",
   "execution_count": 1,
   "metadata": {},
   "outputs": [
    {
     "name": "stderr",
     "output_type": "stream",
     "text": [
      "/Users/linus/Library/Python/3.9/lib/python/site-packages/urllib3/__init__.py:34: NotOpenSSLWarning: urllib3 v2.0 only supports OpenSSL 1.1.1+, currently the 'ssl' module is compiled with 'LibreSSL 2.8.3'. See: https://github.com/urllib3/urllib3/issues/3020\n",
      "  warnings.warn(\n"
     ]
    }
   ],
   "source": [
    "# Standard library imports\n",
    "import os\n",
    "import tempfile\n",
    "\n",
    "# Third-party imports for data manipulation\n",
    "import pandas as pd\n",
    "import numpy as np\n",
    "\n",
    "# Third-party imports for machine learning\n",
    "import joblib\n",
    "from sklearn.impute import SimpleImputer\n",
    "\n",
    "# Third-party imports for data visualization\n",
    "import matplotlib.pyplot as plt\n",
    "import plotly.graph_objects as go\n",
    "\n",
    "# Third-party imports for video processing and computer vision\n",
    "import cv2\n",
    "import mediapipe as mp\n",
    "\n",
    "# IPython imports for interactive widgets and display utilities\n",
    "import ipywidgets as widgets\n",
    "from IPython.display import Video, HTML, display, clear_output\n",
    "\n",
    "# Local imports for video processing pipeline\n",
    "from src.pipeline.tracking.video_processing_pipeline import process_video, body_parts\n",
    "\n",
    "# configuration\n",
    "tracking_data_dir = './src/pipeline/tracking_data'\n",
    "output_video_dir = './src/pipeline/output_videos'\n",
    "predictions_path = \"./src/pipeline/predictions\"\n",
    "models_dir = './data/models/sequence-4f'\n",
    "tracking_data_path = '' # will be set by video tracking cell, otherwise define csv file here\n",
    "\n",
    "# Ensure all directories exist\n",
    "dirs_to_check = [tracking_data_dir, output_video_dir]\n",
    "for dir in dirs_to_check:\n",
    "    if not os.path.exists(dir):\n",
    "        os.makedirs(dir)\n",
    "        print(f\"Directory created: {dir}\")"
   ]
  },
  {
   "cell_type": "markdown",
   "metadata": {},
   "source": [
    "# Video Tracking"
   ]
  },
  {
   "cell_type": "code",
   "execution_count": 2,
   "metadata": {},
   "outputs": [
    {
     "data": {
      "application/vnd.jupyter.widget-view+json": {
       "model_id": "e8a8c52ca9f3403eaec1c833dd6d1364",
       "version_major": 2,
       "version_minor": 0
      },
      "text/plain": [
       "FileUpload(value=(), accept='.mp4, .mov', description='Select a video file', layout=Layout(width='400px'))"
      ]
     },
     "metadata": {},
     "output_type": "display_data"
    },
    {
     "data": {
      "application/vnd.jupyter.widget-view+json": {
       "model_id": "2cf2d0913f6d4302987080cb7b18c20c",
       "version_major": 2,
       "version_minor": 0
      },
      "text/plain": [
       "Button(description='Process Uploaded File', icon='play', layout=Layout(width='400px'), style=ButtonStyle(), to…"
      ]
     },
     "metadata": {},
     "output_type": "display_data"
    },
    {
     "name": "stderr",
     "output_type": "stream",
     "text": [
      "INFO:root:Processing video: tmp1zomwqajIMG_9340.MOV\n"
     ]
    },
    {
     "name": "stdout",
     "output_type": "stream",
     "text": [
      "Processing video... (this might take a while)\n"
     ]
    },
    {
     "name": "stderr",
     "output_type": "stream",
     "text": [
      "INFO: Created TensorFlow Lite XNNPACK delegate for CPU.\n",
      "INFO:root:Tracking data for tmp1zomwqajIMG_9340.MOV stored in ./src/pipeline/tracking_data/Tracking_tmp1zomwqajIMG_9340.csv\n"
     ]
    },
    {
     "data": {
      "text/html": [
       "<div>\n",
       "<style scoped>\n",
       "    .dataframe tbody tr th:only-of-type {\n",
       "        vertical-align: middle;\n",
       "    }\n",
       "\n",
       "    .dataframe tbody tr th {\n",
       "        vertical-align: top;\n",
       "    }\n",
       "\n",
       "    .dataframe thead th {\n",
       "        text-align: right;\n",
       "    }\n",
       "</style>\n",
       "<table border=\"1\" class=\"dataframe\">\n",
       "  <thead>\n",
       "    <tr style=\"text-align: right;\">\n",
       "      <th></th>\n",
       "      <th>Label</th>\n",
       "      <th>Timestamp</th>\n",
       "      <th>Nose_x</th>\n",
       "      <th>Nose_y</th>\n",
       "      <th>Nose_z</th>\n",
       "      <th>Left eye inner_x</th>\n",
       "      <th>Left eye inner_y</th>\n",
       "      <th>Left eye inner_z</th>\n",
       "      <th>Left eye_x</th>\n",
       "      <th>Left eye_y</th>\n",
       "      <th>...</th>\n",
       "      <th>Left heel_z</th>\n",
       "      <th>Right heel_x</th>\n",
       "      <th>Right heel_y</th>\n",
       "      <th>Right heel_z</th>\n",
       "      <th>Left foot index_x</th>\n",
       "      <th>Left foot index_y</th>\n",
       "      <th>Left foot index_z</th>\n",
       "      <th>Right foot index_x</th>\n",
       "      <th>Right foot index_y</th>\n",
       "      <th>Right foot index_z</th>\n",
       "    </tr>\n",
       "  </thead>\n",
       "  <tbody>\n",
       "    <tr>\n",
       "      <th>0</th>\n",
       "      <td>NaN</td>\n",
       "      <td>0</td>\n",
       "      <td>0.447181</td>\n",
       "      <td>0.186625</td>\n",
       "      <td>-0.454502</td>\n",
       "      <td>0.466466</td>\n",
       "      <td>0.167357</td>\n",
       "      <td>-0.481824</td>\n",
       "      <td>0.478228</td>\n",
       "      <td>0.166733</td>\n",
       "      <td>...</td>\n",
       "      <td>0.208295</td>\n",
       "      <td>0.527764</td>\n",
       "      <td>0.884256</td>\n",
       "      <td>0.747109</td>\n",
       "      <td>0.546632</td>\n",
       "      <td>0.973369</td>\n",
       "      <td>-0.081372</td>\n",
       "      <td>0.389055</td>\n",
       "      <td>0.922492</td>\n",
       "      <td>0.568898</td>\n",
       "    </tr>\n",
       "    <tr>\n",
       "      <th>1</th>\n",
       "      <td>NaN</td>\n",
       "      <td>1</td>\n",
       "      <td>0.447440</td>\n",
       "      <td>0.189193</td>\n",
       "      <td>-0.463861</td>\n",
       "      <td>0.467123</td>\n",
       "      <td>0.170478</td>\n",
       "      <td>-0.498253</td>\n",
       "      <td>0.478337</td>\n",
       "      <td>0.169845</td>\n",
       "      <td>...</td>\n",
       "      <td>0.250730</td>\n",
       "      <td>0.527312</td>\n",
       "      <td>0.884385</td>\n",
       "      <td>0.692368</td>\n",
       "      <td>0.548656</td>\n",
       "      <td>0.978809</td>\n",
       "      <td>-0.046427</td>\n",
       "      <td>0.390017</td>\n",
       "      <td>0.923248</td>\n",
       "      <td>0.520040</td>\n",
       "    </tr>\n",
       "    <tr>\n",
       "      <th>2</th>\n",
       "      <td>NaN</td>\n",
       "      <td>2</td>\n",
       "      <td>0.447379</td>\n",
       "      <td>0.191168</td>\n",
       "      <td>-0.478758</td>\n",
       "      <td>0.467114</td>\n",
       "      <td>0.172948</td>\n",
       "      <td>-0.515375</td>\n",
       "      <td>0.478157</td>\n",
       "      <td>0.172240</td>\n",
       "      <td>...</td>\n",
       "      <td>0.243222</td>\n",
       "      <td>0.527092</td>\n",
       "      <td>0.884469</td>\n",
       "      <td>0.687063</td>\n",
       "      <td>0.551741</td>\n",
       "      <td>0.980843</td>\n",
       "      <td>-0.052328</td>\n",
       "      <td>0.390481</td>\n",
       "      <td>0.923249</td>\n",
       "      <td>0.517358</td>\n",
       "    </tr>\n",
       "    <tr>\n",
       "      <th>3</th>\n",
       "      <td>NaN</td>\n",
       "      <td>3</td>\n",
       "      <td>0.447204</td>\n",
       "      <td>0.191382</td>\n",
       "      <td>-0.487665</td>\n",
       "      <td>0.467088</td>\n",
       "      <td>0.173184</td>\n",
       "      <td>-0.523442</td>\n",
       "      <td>0.478086</td>\n",
       "      <td>0.172532</td>\n",
       "      <td>...</td>\n",
       "      <td>0.245198</td>\n",
       "      <td>0.527091</td>\n",
       "      <td>0.885141</td>\n",
       "      <td>0.690187</td>\n",
       "      <td>0.553133</td>\n",
       "      <td>0.981776</td>\n",
       "      <td>-0.046310</td>\n",
       "      <td>0.390478</td>\n",
       "      <td>0.923281</td>\n",
       "      <td>0.523120</td>\n",
       "    </tr>\n",
       "    <tr>\n",
       "      <th>4</th>\n",
       "      <td>NaN</td>\n",
       "      <td>4</td>\n",
       "      <td>0.446104</td>\n",
       "      <td>0.191954</td>\n",
       "      <td>-0.475087</td>\n",
       "      <td>0.465854</td>\n",
       "      <td>0.173861</td>\n",
       "      <td>-0.520072</td>\n",
       "      <td>0.476621</td>\n",
       "      <td>0.173205</td>\n",
       "      <td>...</td>\n",
       "      <td>0.256576</td>\n",
       "      <td>0.527125</td>\n",
       "      <td>0.885262</td>\n",
       "      <td>0.690394</td>\n",
       "      <td>0.554150</td>\n",
       "      <td>0.982438</td>\n",
       "      <td>-0.032706</td>\n",
       "      <td>0.390477</td>\n",
       "      <td>0.923279</td>\n",
       "      <td>0.525715</td>\n",
       "    </tr>\n",
       "  </tbody>\n",
       "</table>\n",
       "<p>5 rows × 101 columns</p>\n",
       "</div>"
      ],
      "text/plain": [
       "   Label  Timestamp    Nose_x    Nose_y    Nose_z  Left eye inner_x  \\\n",
       "0    NaN          0  0.447181  0.186625 -0.454502          0.466466   \n",
       "1    NaN          1  0.447440  0.189193 -0.463861          0.467123   \n",
       "2    NaN          2  0.447379  0.191168 -0.478758          0.467114   \n",
       "3    NaN          3  0.447204  0.191382 -0.487665          0.467088   \n",
       "4    NaN          4  0.446104  0.191954 -0.475087          0.465854   \n",
       "\n",
       "   Left eye inner_y  Left eye inner_z  Left eye_x  Left eye_y  ...  \\\n",
       "0          0.167357         -0.481824    0.478228    0.166733  ...   \n",
       "1          0.170478         -0.498253    0.478337    0.169845  ...   \n",
       "2          0.172948         -0.515375    0.478157    0.172240  ...   \n",
       "3          0.173184         -0.523442    0.478086    0.172532  ...   \n",
       "4          0.173861         -0.520072    0.476621    0.173205  ...   \n",
       "\n",
       "   Left heel_z  Right heel_x  Right heel_y  Right heel_z  Left foot index_x  \\\n",
       "0     0.208295      0.527764      0.884256      0.747109           0.546632   \n",
       "1     0.250730      0.527312      0.884385      0.692368           0.548656   \n",
       "2     0.243222      0.527092      0.884469      0.687063           0.551741   \n",
       "3     0.245198      0.527091      0.885141      0.690187           0.553133   \n",
       "4     0.256576      0.527125      0.885262      0.690394           0.554150   \n",
       "\n",
       "   Left foot index_y  Left foot index_z  Right foot index_x  \\\n",
       "0           0.973369          -0.081372            0.389055   \n",
       "1           0.978809          -0.046427            0.390017   \n",
       "2           0.980843          -0.052328            0.390481   \n",
       "3           0.981776          -0.046310            0.390478   \n",
       "4           0.982438          -0.032706            0.390477   \n",
       "\n",
       "   Right foot index_y  Right foot index_z  \n",
       "0            0.922492            0.568898  \n",
       "1            0.923248            0.520040  \n",
       "2            0.923249            0.517358  \n",
       "3            0.923281            0.523120  \n",
       "4            0.923279            0.525715  \n",
       "\n",
       "[5 rows x 101 columns]"
      ]
     },
     "metadata": {},
     "output_type": "display_data"
    },
    {
     "name": "stdout",
     "output_type": "stream",
     "text": [
      "Creating video with landmarks... (this might take a while)\n",
      "Video saved to ./src/pipeline/output_videos/tmp1zomwqajIMG_9340_landmarks.mp4\n"
     ]
    },
    {
     "data": {
      "text/html": [
       "\n",
       "    Video with landmarks saved to \n",
       "    <a href='./src/pipeline/output_videos/tmp1zomwqajIMG_9340_landmarks.mp4' target='_blank'>./src/pipeline/output_videos/tmp1zomwqajIMG_9340_landmarks.mp4</a> <br><br>\n",
       "    <video height=\"500\" controls allowfullscreen>\n",
       "      <source src=\"./src/pipeline/output_videos/tmp1zomwqajIMG_9340_landmarks.mp4\" type=\"video/mp4\">\n",
       "    Your browser does not support the video tag.\n",
       "    </video>\n",
       "    "
      ],
      "text/plain": [
       "<IPython.core.display.HTML object>"
      ]
     },
     "metadata": {},
     "output_type": "display_data"
    }
   ],
   "source": [
    "# Define the file upload widget\n",
    "file_selector = widgets.FileUpload(\n",
    "    accept='.mp4, .mov',  # Specify file types\n",
    "    multiple=False,  # Allow multiple files to be selected\n",
    "    description='Select a video file',\n",
    "    layout={'width': '400px'}\n",
    ")\n",
    "\n",
    "# Define a button widget\n",
    "button = widgets.Button(\n",
    "    description='Process Uploaded File',\n",
    "    button_style='',  # 'success', 'info', 'warning', 'danger' or ''\n",
    "    tooltip='Click to process the uploaded file',\n",
    "    icon='play',  # Button icon\n",
    "    layout={'width': '400px'}\n",
    ")\n",
    "\n",
    "def save_uploaded_file(uploaded_file):\n",
    "    file_name = uploaded_file['name']\n",
    "    file_content = uploaded_file['content']\n",
    "    with tempfile.NamedTemporaryFile(delete=False, suffix=file_name) as tmp_file:\n",
    "        tmp_file.write(file_content)\n",
    "        return tmp_file.name, os.path.dirname(tmp_file.name)\n",
    "\n",
    "def save_landmarks_on_video(video_path, output_video_path):\n",
    "    print(\"Creating video with landmarks... (this might take a while)\")\n",
    "\n",
    "    # Initialize MediaPipe Pose\n",
    "    mp_pose = mp.solutions.pose\n",
    "    mp_drawing = mp.solutions.drawing_utils\n",
    "\n",
    "    # Open the video file\n",
    "    cap = cv2.VideoCapture(video_path)\n",
    "    \n",
    "    # Check if video opened successfully\n",
    "    if not cap.isOpened():\n",
    "        print(\"Error: Could not open video.\")\n",
    "        return\n",
    "\n",
    "    # Get the width, height, and frame rate of the video frame\n",
    "    width = int(cap.get(cv2.CAP_PROP_FRAME_WIDTH))\n",
    "    height = int(cap.get(cv2.CAP_PROP_FRAME_HEIGHT))\n",
    "    fps = cap.get(cv2.CAP_PROP_FPS)\n",
    "\n",
    "    # Read the tracking data from CSV\n",
    "    tracking_data = pd.read_csv(tracking_data_path)\n",
    "\n",
    "    # Define the codec and create VideoWriter object\n",
    "    fourcc = cv2.VideoWriter_fourcc(*'avc1')  # or 'XVID'\n",
    "    out = cv2.VideoWriter(output_video_path, fourcc, fps, (width, height))\n",
    "\n",
    "    # Process video and draw landmarks from tracking data\n",
    "    for index, row in tracking_data.iterrows():\n",
    "        # Read frame from video\n",
    "        ret, frame = cap.read()\n",
    "        if not ret:\n",
    "            break\n",
    "\n",
    "        # Draw landmarks on the frame\n",
    "        for landmark in mp.solutions.pose.PoseLandmark:\n",
    "            landmark_name = landmark.name.lower().replace('_', ' ')  # Convert to lowercase and replace underscores with spaces\n",
    "            landmark_name = landmark_name.capitalize()  # Capitalize only the first letter of the first word\n",
    "            landmark_x = f'{landmark_name}_x'\n",
    "            landmark_y = f'{landmark_name}_y'\n",
    "            if landmark_x in tracking_data.columns and landmark_y in tracking_data.columns and not pd.isna(row[landmark_x]) and not pd.isna(row[landmark_y]):\n",
    "                x = int(row[landmark_x] * width)\n",
    "                y = int(row[landmark_y] * height)\n",
    "                # Check if the current landmark is one of the hips\n",
    "                if landmark in [mp.solutions.pose.PoseLandmark.LEFT_HIP, mp.solutions.pose.PoseLandmark.RIGHT_HIP]:\n",
    "                    # Highlight hips in red\n",
    "                    cv2.circle(frame, (x, y), 15, (0, 0, 255), -1)\n",
    "                else:\n",
    "                    # Draw other landmarks in green\n",
    "                    cv2.circle(frame, (x, y), 5, (0, 255, 0), -1)\n",
    "\n",
    "\n",
    "        # Write the frame with landmarks to the output video file\n",
    "        out.write(frame)\n",
    "\n",
    "    # Release everything when job is finished\n",
    "    cap.release()\n",
    "    out.release()\n",
    "    cv2.destroyAllWindows()\n",
    "    print(f\"Video saved to {output_video_path}\")\n",
    "\n",
    "def process_and_display_tracking_data(tmp_file_path, tmp_file_dir):\n",
    "    print(\"Processing video... (this might take a while)\")\n",
    "    process_video(os.path.basename(tmp_file_path), tmp_file_dir, tracking_data_dir)\n",
    "    tracking_data_file = f'Tracking_{os.path.basename(tmp_file_path[:-4])}.csv'\n",
    "    tracking_data_df = pd.read_csv(os.path.join(tracking_data_dir, tracking_data_file))\n",
    "    display(tracking_data_df.head())\n",
    "    # After tracking data is processed, save video with landmarks\n",
    "    output_video_path = os.path.join(output_video_dir, f\"{os.path.basename(tmp_file_path[:-4])}_landmarks.mp4\")\n",
    "    global tracking_data_path\n",
    "    tracking_data_path = os.path.join(tracking_data_dir, tracking_data_file)\n",
    "    save_landmarks_on_video(tmp_file_path, output_video_path)\n",
    "    video_html = f'''\n",
    "    Video with landmarks saved to \n",
    "    <a href='{output_video_path}' target='_blank'>{output_video_path}</a> <br><br>\n",
    "    <video height=\"500\" controls allowfullscreen>\n",
    "      <source src=\"{output_video_path}\" type=\"video/mp4\">\n",
    "    Your browser does not support the video tag.\n",
    "    </video>\n",
    "    '''\n",
    "    display(HTML(video_html))\n",
    "\n",
    "# Define an event handler for the button click event\n",
    "def on_button_clicked(b):\n",
    "    uploaded_files = file_selector.value\n",
    "    if uploaded_files:\n",
    "        uploaded_file = next(iter(uploaded_files))\n",
    "        tmp_file_path, tmp_file_dir = save_uploaded_file(uploaded_file)\n",
    "        process_and_display_tracking_data(tmp_file_path, tmp_file_dir)\n",
    "    else:\n",
    "        print(\"No file uploaded.\")\n",
    "\n",
    "# Attach the event handler to the button\n",
    "button.on_click(on_button_clicked)\n",
    "\n",
    "# Display the widgets\n",
    "display(file_selector, button)\n"
   ]
  },
  {
   "cell_type": "markdown",
   "metadata": {},
   "source": [
    "# Model Usage - Squat Phase Analysis"
   ]
  },
  {
   "cell_type": "code",
   "execution_count": null,
   "metadata": {},
   "outputs": [
    {
     "data": {
      "application/vnd.jupyter.widget-view+json": {
       "model_id": "82f2a3ab4fdd4c1c93b4632e921485ab",
       "version_major": 2,
       "version_minor": 0
      },
      "text/plain": [
       "Dropdown(description='Model:', index=6, options=(('GradientBoostingClassifier.pkl', './data/models/sequence-4f…"
      ]
     },
     "metadata": {},
     "output_type": "display_data"
    },
    {
     "data": {
      "application/vnd.jupyter.widget-view+json": {
       "model_id": "e918879866954257b8968f34da2139ba",
       "version_major": 2,
       "version_minor": 0
      },
      "text/plain": [
       "Button(button_style='info', description='Start Analysis', icon='play', style=ButtonStyle(), tooltip='Click to …"
      ]
     },
     "metadata": {},
     "output_type": "display_data"
    },
    {
     "name": "stdout",
     "output_type": "stream",
     "text": [
      "Starting analysis with model: ./data/models/sequence-4f/SVC.pkl\n",
      "Predictions using SVC.pkl saved to ./src/pipeline/predictions/Tracking_tmp1zomwqajIMG_9340/Tracking_tmp1zomwqajIMG_9340_SVC_predicted.csv\n"
     ]
    },
    {
     "data": {
      "application/vnd.plotly.v1+json": {
       "config": {
        "plotlyServerURL": "https://plot.ly"
       },
       "data": [
        {
         "hovertemplate": "x: %{x}",
         "marker": {
          "color": "orange"
         },
         "mode": "markers",
         "name": "Pause",
         "type": "scatter",
         "x": [
          371,
          372,
          373,
          374,
          375,
          376,
          377,
          385,
          386,
          387,
          388,
          389,
          390,
          391,
          392,
          393,
          394,
          395,
          396,
          397,
          398,
          399,
          400,
          401,
          402,
          403,
          404,
          405,
          406,
          407,
          408,
          409,
          410,
          411,
          412,
          413,
          552,
          553,
          554,
          555,
          556,
          557,
          559,
          560,
          561,
          562,
          563,
          564,
          565,
          566,
          567,
          568,
          569,
          570,
          571,
          572,
          576,
          577,
          578,
          579,
          580,
          581,
          582,
          583,
          584,
          585,
          586,
          587
         ],
         "y": [
          0.5185761749744415,
          0.5185819864273071,
          0.5177787840366364,
          0.5182231962680817,
          0.5186044871807098,
          0.5192555785179138,
          0.5193421840667725,
          0.5273963809013367,
          0.5274472534656525,
          0.5271926820278168,
          0.5266467034816742,
          0.5259486138820648,
          0.524309515953064,
          0.5233049094676971,
          0.5214378833770752,
          0.5205531716346741,
          0.5197733938694,
          0.5193321406841278,
          0.5194979012012482,
          0.5196843445301056,
          0.5197429656982422,
          0.5198042094707489,
          0.5194827318191528,
          0.5193991363048553,
          0.5198023617267609,
          0.5207340121269226,
          0.520797073841095,
          0.5212734341621399,
          0.521681010723114,
          0.52169069647789,
          0.5216419696807861,
          0.5214591920375824,
          0.5212212204933167,
          0.5211288928985596,
          0.5210333466529846,
          0.5214768648147583,
          0.5172319412231445,
          0.5160132050514221,
          0.5149392187595367,
          0.5142018795013428,
          0.5150156319141388,
          0.5152024626731873,
          0.5154481828212738,
          0.5155693292617798,
          0.515585720539093,
          0.5154748558998108,
          0.51531583070755,
          0.515004426240921,
          0.5150516629219055,
          0.5150833129882812,
          0.5151147544384003,
          0.5148998200893402,
          0.5143821835517883,
          0.514534205198288,
          0.5145162343978882,
          0.5146886110305786,
          0.5156737267971039,
          0.5154060423374176,
          0.5153592824935913,
          0.5145626366138458,
          0.5144050419330597,
          0.5143649876117706,
          0.5145231187343597,
          0.5145122408866882,
          0.5141790807247162,
          0.5131886899471283,
          0.51314377784729,
          0.5125176310539246
         ]
        },
        {
         "hovertemplate": "x: %{x}",
         "marker": {
          "color": "green"
         },
         "mode": "markers",
         "name": "Ascending",
         "type": "scatter",
         "x": [
          174,
          175,
          176,
          177,
          178,
          179,
          180,
          181,
          182,
          183,
          184,
          185,
          186,
          187,
          188,
          189,
          190,
          191,
          192,
          193,
          194,
          195,
          196,
          197,
          198,
          199,
          200,
          201,
          202,
          203,
          204,
          205,
          206,
          207,
          208,
          209,
          210,
          211,
          212,
          213,
          214,
          215,
          216,
          217,
          218,
          219,
          220,
          221,
          222,
          223,
          224,
          326,
          327,
          328,
          329,
          330,
          331,
          332,
          333,
          334,
          335,
          336,
          337,
          338,
          339,
          340,
          341,
          342,
          343,
          344,
          345,
          346,
          347,
          348,
          349,
          350,
          351,
          352,
          353,
          354,
          355,
          356,
          357,
          358,
          359,
          360,
          361,
          362,
          363,
          364,
          365,
          366,
          367,
          368,
          369,
          370,
          500,
          501,
          502,
          504,
          505,
          506,
          507,
          508,
          509,
          510,
          511,
          512,
          513,
          514,
          515,
          516,
          517,
          518,
          519,
          520,
          521,
          522,
          523,
          524,
          525,
          526,
          527,
          528,
          529,
          530,
          531,
          532,
          533,
          534,
          535,
          536,
          537,
          538,
          539,
          540,
          541,
          542,
          543,
          544,
          545,
          546,
          547,
          548,
          549,
          550,
          551
         ],
         "y": [
          0.7382069230079651,
          0.736122190952301,
          0.7315375208854675,
          0.7276193499565125,
          0.7226189076900482,
          0.7193449437618256,
          0.7164114415645599,
          0.7132390737533569,
          0.7096053063869476,
          0.7049447596073151,
          0.7022116780281067,
          0.6969634890556335,
          0.6927944719791412,
          0.6866927444934845,
          0.6807582676410675,
          0.6759550273418427,
          0.6689695715904236,
          0.6606994569301605,
          0.6566571891307831,
          0.6525534391403198,
          0.6465500593185425,
          0.6421392560005188,
          0.6369534134864807,
          0.6317016780376434,
          0.6266319453716278,
          0.6233327984809875,
          0.6205667555332184,
          0.616294264793396,
          0.6122806966304779,
          0.6052249670028687,
          0.5994183123111725,
          0.5965756475925446,
          0.592553973197937,
          0.5886731445789337,
          0.5845111310482025,
          0.5821846723556519,
          0.5783182382583618,
          0.5749039053916931,
          0.5721115171909332,
          0.5667527914047241,
          0.565171629190445,
          0.5625223517417908,
          0.5615008175373077,
          0.5584602355957031,
          0.5568619072437286,
          0.5556608736515045,
          0.5537839233875275,
          0.5523320138454437,
          0.5497876405715942,
          0.5487724542617798,
          0.5481224358081818,
          0.7474067807197571,
          0.7448412477970123,
          0.7436214983463287,
          0.7423969507217407,
          0.7398141324520111,
          0.7369551360607147,
          0.7345687448978424,
          0.729995459318161,
          0.7251450717449188,
          0.7206907272338867,
          0.7138154804706573,
          0.7063628733158112,
          0.698599100112915,
          0.6916576027870178,
          0.6851712167263031,
          0.677820473909378,
          0.6687252223491669,
          0.6613508462905884,
          0.6540676653385162,
          0.645498126745224,
          0.6374258697032928,
          0.6303672790527344,
          0.6216330230236053,
          0.6147831976413727,
          0.6072101593017578,
          0.5998956561088562,
          0.5925245881080627,
          0.5856179594993591,
          0.5776361227035522,
          0.5713151693344116,
          0.5650959014892578,
          0.5606150329113007,
          0.555806577205658,
          0.5518113672733307,
          0.5491473376750946,
          0.5462742447853088,
          0.5417981445789337,
          0.5407112538814545,
          0.5372458100318909,
          0.5332653224468231,
          0.5310294330120087,
          0.5267344415187836,
          0.5236646831035614,
          0.5207766592502594,
          0.5185223519802094,
          0.7172746062278748,
          0.7159975171089172,
          0.7146275639533997,
          0.7111724317073822,
          0.7084616720676422,
          0.7055809497833252,
          0.7009324729442596,
          0.6961833238601685,
          0.6944254636764526,
          0.6916052401065826,
          0.6860410273075104,
          0.6816382706165314,
          0.6768300831317902,
          0.6738086044788361,
          0.6700637638568878,
          0.6649873852729797,
          0.6606845557689667,
          0.6561762988567352,
          0.6512347161769867,
          0.6460058987140656,
          0.6403341591358185,
          0.6359453797340393,
          0.6290993094444275,
          0.6257862746715546,
          0.6201220154762268,
          0.6122784912586212,
          0.6057231724262238,
          0.6008943319320679,
          0.5941484272480011,
          0.5885937511920929,
          0.5841498374938965,
          0.5788745284080505,
          0.5738325417041779,
          0.5691669881343842,
          0.5646778345108032,
          0.5599360167980194,
          0.5559329986572266,
          0.5518213212490082,
          0.5490972697734833,
          0.5447082817554474,
          0.539920300245285,
          0.5384370386600494,
          0.535223513841629,
          0.5322406888008118,
          0.5290391147136688,
          0.5277906656265259,
          0.5253540277481079,
          0.5228642523288727,
          0.5210630893707275,
          0.5189113318920135,
          0.5184713900089264
         ]
        },
        {
         "hovertemplate": "x: %{x}",
         "marker": {
          "color": "red"
         },
         "mode": "markers",
         "name": "Descending",
         "type": "scatter",
         "x": [
          3,
          4,
          5,
          6,
          7,
          8,
          9,
          10,
          11,
          12,
          13,
          14,
          15,
          16,
          17,
          18,
          19,
          20,
          21,
          22,
          23,
          24,
          25,
          26,
          27,
          28,
          29,
          30,
          31,
          32,
          33,
          34,
          35,
          36,
          37,
          38,
          39,
          40,
          41,
          42,
          43,
          44,
          45,
          46,
          47,
          48,
          49,
          50,
          51,
          52,
          53,
          54,
          55,
          56,
          57,
          58,
          59,
          60,
          61,
          62,
          63,
          64,
          65,
          66,
          67,
          68,
          69,
          70,
          71,
          72,
          73,
          74,
          75,
          76,
          77,
          78,
          79,
          80,
          81,
          82,
          83,
          84,
          85,
          86,
          87,
          88,
          89,
          90,
          91,
          92,
          93,
          94,
          95,
          96,
          97,
          98,
          99,
          100,
          101,
          102,
          103,
          104,
          105,
          106,
          107,
          108,
          109,
          110,
          111,
          112,
          113,
          114,
          115,
          116,
          117,
          118,
          119,
          120,
          121,
          122,
          123,
          124,
          125,
          126,
          127,
          128,
          129,
          130,
          131,
          132,
          133,
          134,
          135,
          136,
          137,
          138,
          139,
          140,
          141,
          142,
          143,
          144,
          145,
          146,
          147,
          148,
          149,
          150,
          151,
          152,
          153,
          154,
          155,
          156,
          157,
          158,
          159,
          160,
          161,
          162,
          163,
          164,
          165,
          166,
          167,
          168,
          169,
          170,
          171,
          172,
          173,
          225,
          226,
          227,
          228,
          229,
          230,
          231,
          232,
          233,
          234,
          235,
          236,
          237,
          238,
          239,
          240,
          241,
          242,
          243,
          244,
          245,
          246,
          247,
          248,
          249,
          250,
          251,
          252,
          253,
          254,
          255,
          256,
          257,
          258,
          259,
          260,
          261,
          262,
          263,
          264,
          265,
          266,
          267,
          268,
          269,
          270,
          271,
          272,
          273,
          274,
          275,
          276,
          277,
          278,
          279,
          280,
          281,
          282,
          283,
          284,
          285,
          286,
          287,
          288,
          289,
          290,
          291,
          292,
          293,
          294,
          295,
          296,
          297,
          298,
          299,
          300,
          301,
          302,
          303,
          304,
          305,
          306,
          307,
          308,
          309,
          310,
          311,
          312,
          313,
          314,
          315,
          316,
          317,
          318,
          319,
          320,
          321,
          322,
          323,
          324,
          325,
          378,
          379,
          380,
          381,
          382,
          383,
          384,
          414,
          415,
          416,
          417,
          418,
          419,
          420,
          421,
          422,
          423,
          424,
          425,
          426,
          427,
          428,
          429,
          430,
          431,
          432,
          433,
          434,
          435,
          436,
          437,
          438,
          439,
          440,
          441,
          442,
          443,
          444,
          445,
          446,
          447,
          448,
          449,
          450,
          451,
          452,
          453,
          454,
          455,
          456,
          457,
          458,
          459,
          460,
          461,
          462,
          463,
          464,
          465,
          466,
          467,
          468,
          469,
          470,
          471,
          472,
          473,
          474,
          475,
          476,
          477,
          478,
          479,
          480,
          481,
          482,
          483,
          484,
          485,
          486,
          487,
          488,
          489,
          490,
          491,
          492,
          493,
          494,
          495,
          496,
          497,
          498,
          499,
          503,
          558,
          573,
          574,
          575
         ],
         "y": [
          0.559733510017395,
          0.5599596798419952,
          0.5607387125492096,
          0.5615979433059692,
          0.562170684337616,
          0.5624218285083771,
          0.5624711513519287,
          0.562518984079361,
          0.5627157688140869,
          0.5627295076847076,
          0.5625345408916473,
          0.5624950230121613,
          0.5620768070220947,
          0.5620150864124298,
          0.5620768070220947,
          0.5622347891330719,
          0.5624487996101379,
          0.5625569224357605,
          0.5625492334365845,
          0.5629042685031891,
          0.5633111596107483,
          0.5634234547615051,
          0.5635064542293549,
          0.563803106546402,
          0.5638363361358643,
          0.5638378262519836,
          0.5639461278915405,
          0.5642158389091492,
          0.5644667744636536,
          0.5645405054092407,
          0.5645708739757538,
          0.5644948780536652,
          0.5643247663974762,
          0.5642770528793335,
          0.5642460882663727,
          0.5642179846763611,
          0.5642161071300507,
          0.5642580687999725,
          0.5642902553081512,
          0.5643084049224854,
          0.5643095672130585,
          0.5643360018730164,
          0.5643432140350342,
          0.5643581748008728,
          0.5643980205059052,
          0.56451615691185,
          0.5645821690559387,
          0.5645792782306671,
          0.5646182894706726,
          0.5646171867847443,
          0.5643957257270813,
          0.5643699169158936,
          0.5643446147441864,
          0.5643635392189026,
          0.5644768476486206,
          0.5644910335540771,
          0.5644931793212891,
          0.5645881295204163,
          0.5646491646766663,
          0.5646461844444275,
          0.5646410584449768,
          0.564650148153305,
          0.5645633935928345,
          0.5642856657505035,
          0.5642242729663849,
          0.5640474259853363,
          0.5639145076274872,
          0.5636200308799744,
          0.5634275376796722,
          0.56324303150177,
          0.5630354881286621,
          0.562288910150528,
          0.5614364743232727,
          0.5612222254276276,
          0.5611405372619629,
          0.561349481344223,
          0.5613048374652863,
          0.561013400554657,
          0.56107959151268,
          0.5616700947284698,
          0.5620552003383636,
          0.562492161989212,
          0.5624799728393555,
          0.5624766647815704,
          0.5624816417694092,
          0.5631175935268402,
          0.5634535551071167,
          0.5648289024829865,
          0.5661067366600037,
          0.567823201417923,
          0.5698283016681671,
          0.5704981982707977,
          0.5733177065849304,
          0.5757913589477539,
          0.5768461227416992,
          0.5802126526832581,
          0.5844610631465912,
          0.5860961675643921,
          0.5900779068470001,
          0.593364953994751,
          0.5950016379356384,
          0.5982683002948761,
          0.6004393398761749,
          0.6058172583580017,
          0.6101503670215607,
          0.6138886511325836,
          0.6184635758399963,
          0.6217523515224457,
          0.6236779987812042,
          0.6291170120239258,
          0.6328645050525665,
          0.6364355385303497,
          0.6422734558582306,
          0.6457548439502716,
          0.6488215923309326,
          0.6516712307929993,
          0.655896931886673,
          0.6604517102241516,
          0.6643751859664917,
          0.6670031249523163,
          0.6699212491512299,
          0.673678994178772,
          0.6763721406459808,
          0.6796695291996002,
          0.6824620068073273,
          0.6847973167896271,
          0.6875662803649902,
          0.6924000382423401,
          0.6963977515697479,
          0.698675125837326,
          0.7024335861206055,
          0.7062226831912994,
          0.7105548679828644,
          0.7138033211231232,
          0.718407928943634,
          0.7230115234851837,
          0.7253656983375549,
          0.7277904152870178,
          0.7311845421791077,
          0.7328342199325562,
          0.7351497709751129,
          0.7376636564731598,
          0.7389642298221588,
          0.7390132546424866,
          0.7409919202327728,
          0.7421946227550507,
          0.7423291802406311,
          0.7419800758361816,
          0.7417058944702148,
          0.741873562335968,
          0.7420721054077148,
          0.7423390746116638,
          0.7423718869686127,
          0.7424483001232147,
          0.742520272731781,
          0.7426692545413971,
          0.7428039312362671,
          0.7428885698318481,
          0.7430297434329987,
          0.7431213855743408,
          0.7430025041103363,
          0.7428793013095856,
          0.742854505777359,
          0.7427842319011688,
          0.7429024279117584,
          0.7429317235946655,
          0.7428358793258667,
          0.7427753508090973,
          0.7422052025794983,
          0.7414076328277588,
          0.7397129535675049,
          0.5483698844909668,
          0.5488143265247345,
          0.5490237176418304,
          0.5492120385169983,
          0.5494791269302368,
          0.5496987700462341,
          0.5498156249523163,
          0.5498752892017365,
          0.5504308640956879,
          0.5506832301616669,
          0.5510707795619965,
          0.5511487424373627,
          0.5512540638446808,
          0.5517390072345734,
          0.551832914352417,
          0.5519925355911255,
          0.5520812571048737,
          0.552198976278305,
          0.5523442924022675,
          0.5528067350387573,
          0.5532643496990204,
          0.5536898374557495,
          0.5537007451057434,
          0.5537203550338745,
          0.5539312660694122,
          0.5540471076965332,
          0.5559033751487732,
          0.55698361992836,
          0.5597755312919617,
          0.5625172853469849,
          0.5666452646255493,
          0.5683520436286926,
          0.5704108774662018,
          0.5731091797351837,
          0.5749570429325104,
          0.5764279961585999,
          0.5802038013935089,
          0.5838310718536377,
          0.5867339968681335,
          0.5890979170799255,
          0.5940431356430054,
          0.5970833003520966,
          0.6007673442363739,
          0.6033032238483429,
          0.6060551106929779,
          0.6079038381576538,
          0.6110693514347076,
          0.6148654222488403,
          0.6189596354961395,
          0.6223843395709991,
          0.6252383887767792,
          0.6295507848262787,
          0.6332273185253143,
          0.6368566453456879,
          0.6433265209197998,
          0.6482800543308258,
          0.6535085141658783,
          0.6577208936214447,
          0.662027508020401,
          0.6666761338710785,
          0.6712555885314941,
          0.6755495965480804,
          0.6795723736286163,
          0.6832273304462433,
          0.6868520379066467,
          0.6905456483364105,
          0.6937770545482635,
          0.6982649266719818,
          0.7017821371555328,
          0.7069784700870514,
          0.7099054157733917,
          0.7138178646564484,
          0.7175296247005463,
          0.7210609614849091,
          0.7250233888626099,
          0.7290649712085724,
          0.7324763834476471,
          0.734510987997055,
          0.7371135354042053,
          0.7391869425773621,
          0.7408601939678192,
          0.7420859932899475,
          0.744329571723938,
          0.7460531294345856,
          0.7480402588844299,
          0.7492965757846832,
          0.7493184208869934,
          0.7503210604190826,
          0.7513165175914764,
          0.7517336905002594,
          0.7526834309101105,
          0.7538014352321625,
          0.7536252737045288,
          0.7543833255767822,
          0.7541357278823853,
          0.7539361119270325,
          0.7533935904502869,
          0.7530567646026611,
          0.7525399029254913,
          0.7520199120044708,
          0.749646782875061,
          0.5208826959133148,
          0.5230386853218079,
          0.5249174535274506,
          0.525877058506012,
          0.5268532335758209,
          0.5272673964500427,
          0.527303159236908,
          0.5227870047092438,
          0.5235189199447632,
          0.523790031671524,
          0.523962676525116,
          0.524077445268631,
          0.524859219789505,
          0.5268297493457794,
          0.5300208926200867,
          0.533924013376236,
          0.5377856492996216,
          0.539690762758255,
          0.5445279479026794,
          0.5497941374778748,
          0.5512489378452301,
          0.5535773038864136,
          0.5561643838882446,
          0.5609563589096069,
          0.5656852722167969,
          0.5698951780796051,
          0.5723919868469238,
          0.5775730907917023,
          0.5814196467399597,
          0.5860118269920349,
          0.5902182757854462,
          0.5943250954151154,
          0.5980887115001678,
          0.6029498875141144,
          0.6072759628295898,
          0.6127546727657318,
          0.6159765422344208,
          0.6198868751525879,
          0.6238089203834534,
          0.6279001533985138,
          0.632207453250885,
          0.6361323595046997,
          0.6401850283145905,
          0.6441479325294495,
          0.6481552422046661,
          0.6524466574192047,
          0.6564375758171082,
          0.6598617732524872,
          0.6635684370994568,
          0.668045699596405,
          0.6727702617645264,
          0.6746794283390045,
          0.6767959594726562,
          0.6800103485584259,
          0.6844173669815063,
          0.6868647634983063,
          0.6895327568054199,
          0.690304696559906,
          0.6926966607570648,
          0.6956090033054352,
          0.6963178813457489,
          0.6984944641590118,
          0.7019736766815186,
          0.7040948569774628,
          0.7061123847961426,
          0.7072039246559143,
          0.7098724842071533,
          0.7140356600284576,
          0.715801864862442,
          0.7156524658203125,
          0.7169187963008881,
          0.7189648747444153,
          0.71985724568367,
          0.7213201522827148,
          0.722040057182312,
          0.7226411402225494,
          0.7236285209655762,
          0.723636120557785,
          0.7236696779727936,
          0.7235870957374573,
          0.7238301634788513,
          0.7244860231876373,
          0.7243105173110962,
          0.7242223918437958,
          0.7241151332855225,
          0.7240283489227295,
          0.7239387631416321,
          0.7236931920051575,
          0.7233774363994598,
          0.7230682373046875,
          0.7223160862922668,
          0.7209299802780151,
          0.7196501791477203,
          0.7131280303001404,
          0.5154529511928558,
          0.5154160559177399,
          0.515453040599823,
          0.5156140625476837
         ]
        },
        {
         "hovertemplate": "x: %{x}",
         "marker": {
          "color": "yellow"
         },
         "mode": "markers",
         "name": "Transition",
         "type": "scatter",
         "x": [],
         "y": []
        },
        {
         "hovertemplate": "x: %{x}",
         "marker": {
          "color": "grey"
         },
         "mode": "markers",
         "name": "Unknown",
         "type": "scatter",
         "x": [],
         "y": []
        }
       ],
       "layout": {
        "annotations": [
         {
          "showarrow": false,
          "text": "Start: 0",
          "x": 0,
          "y": 0.05,
          "yref": "paper"
         },
         {
          "showarrow": false,
          "text": "End: 587",
          "x": 587,
          "y": 0.05,
          "yref": "paper"
         }
        ],
        "autosize": true,
        "height": 600,
        "hovermode": "x",
        "paper_bgcolor": "rgba(0,0,0,0)",
        "plot_bgcolor": "rgba(0,0,0,0)",
        "shapes": [
         {
          "line": {
           "color": "Green",
           "width": 2
          },
          "type": "line",
          "x0": 0,
          "x1": 0,
          "y0": 0,
          "y1": 1,
          "yref": "paper"
         },
         {
          "line": {
           "color": "Red",
           "width": 2
          },
          "type": "line",
          "x0": 587,
          "x1": 587,
          "y0": 0,
          "y1": 1,
          "yref": "paper"
         }
        ],
        "template": {
         "data": {
          "bar": [
           {
            "error_x": {
             "color": "#2a3f5f"
            },
            "error_y": {
             "color": "#2a3f5f"
            },
            "marker": {
             "line": {
              "color": "#E5ECF6",
              "width": 0.5
             },
             "pattern": {
              "fillmode": "overlay",
              "size": 10,
              "solidity": 0.2
             }
            },
            "type": "bar"
           }
          ],
          "barpolar": [
           {
            "marker": {
             "line": {
              "color": "#E5ECF6",
              "width": 0.5
             },
             "pattern": {
              "fillmode": "overlay",
              "size": 10,
              "solidity": 0.2
             }
            },
            "type": "barpolar"
           }
          ],
          "carpet": [
           {
            "aaxis": {
             "endlinecolor": "#2a3f5f",
             "gridcolor": "white",
             "linecolor": "white",
             "minorgridcolor": "white",
             "startlinecolor": "#2a3f5f"
            },
            "baxis": {
             "endlinecolor": "#2a3f5f",
             "gridcolor": "white",
             "linecolor": "white",
             "minorgridcolor": "white",
             "startlinecolor": "#2a3f5f"
            },
            "type": "carpet"
           }
          ],
          "choropleth": [
           {
            "colorbar": {
             "outlinewidth": 0,
             "ticks": ""
            },
            "type": "choropleth"
           }
          ],
          "contour": [
           {
            "colorbar": {
             "outlinewidth": 0,
             "ticks": ""
            },
            "colorscale": [
             [
              0,
              "#0d0887"
             ],
             [
              0.1111111111111111,
              "#46039f"
             ],
             [
              0.2222222222222222,
              "#7201a8"
             ],
             [
              0.3333333333333333,
              "#9c179e"
             ],
             [
              0.4444444444444444,
              "#bd3786"
             ],
             [
              0.5555555555555556,
              "#d8576b"
             ],
             [
              0.6666666666666666,
              "#ed7953"
             ],
             [
              0.7777777777777778,
              "#fb9f3a"
             ],
             [
              0.8888888888888888,
              "#fdca26"
             ],
             [
              1,
              "#f0f921"
             ]
            ],
            "type": "contour"
           }
          ],
          "contourcarpet": [
           {
            "colorbar": {
             "outlinewidth": 0,
             "ticks": ""
            },
            "type": "contourcarpet"
           }
          ],
          "heatmap": [
           {
            "colorbar": {
             "outlinewidth": 0,
             "ticks": ""
            },
            "colorscale": [
             [
              0,
              "#0d0887"
             ],
             [
              0.1111111111111111,
              "#46039f"
             ],
             [
              0.2222222222222222,
              "#7201a8"
             ],
             [
              0.3333333333333333,
              "#9c179e"
             ],
             [
              0.4444444444444444,
              "#bd3786"
             ],
             [
              0.5555555555555556,
              "#d8576b"
             ],
             [
              0.6666666666666666,
              "#ed7953"
             ],
             [
              0.7777777777777778,
              "#fb9f3a"
             ],
             [
              0.8888888888888888,
              "#fdca26"
             ],
             [
              1,
              "#f0f921"
             ]
            ],
            "type": "heatmap"
           }
          ],
          "heatmapgl": [
           {
            "colorbar": {
             "outlinewidth": 0,
             "ticks": ""
            },
            "colorscale": [
             [
              0,
              "#0d0887"
             ],
             [
              0.1111111111111111,
              "#46039f"
             ],
             [
              0.2222222222222222,
              "#7201a8"
             ],
             [
              0.3333333333333333,
              "#9c179e"
             ],
             [
              0.4444444444444444,
              "#bd3786"
             ],
             [
              0.5555555555555556,
              "#d8576b"
             ],
             [
              0.6666666666666666,
              "#ed7953"
             ],
             [
              0.7777777777777778,
              "#fb9f3a"
             ],
             [
              0.8888888888888888,
              "#fdca26"
             ],
             [
              1,
              "#f0f921"
             ]
            ],
            "type": "heatmapgl"
           }
          ],
          "histogram": [
           {
            "marker": {
             "pattern": {
              "fillmode": "overlay",
              "size": 10,
              "solidity": 0.2
             }
            },
            "type": "histogram"
           }
          ],
          "histogram2d": [
           {
            "colorbar": {
             "outlinewidth": 0,
             "ticks": ""
            },
            "colorscale": [
             [
              0,
              "#0d0887"
             ],
             [
              0.1111111111111111,
              "#46039f"
             ],
             [
              0.2222222222222222,
              "#7201a8"
             ],
             [
              0.3333333333333333,
              "#9c179e"
             ],
             [
              0.4444444444444444,
              "#bd3786"
             ],
             [
              0.5555555555555556,
              "#d8576b"
             ],
             [
              0.6666666666666666,
              "#ed7953"
             ],
             [
              0.7777777777777778,
              "#fb9f3a"
             ],
             [
              0.8888888888888888,
              "#fdca26"
             ],
             [
              1,
              "#f0f921"
             ]
            ],
            "type": "histogram2d"
           }
          ],
          "histogram2dcontour": [
           {
            "colorbar": {
             "outlinewidth": 0,
             "ticks": ""
            },
            "colorscale": [
             [
              0,
              "#0d0887"
             ],
             [
              0.1111111111111111,
              "#46039f"
             ],
             [
              0.2222222222222222,
              "#7201a8"
             ],
             [
              0.3333333333333333,
              "#9c179e"
             ],
             [
              0.4444444444444444,
              "#bd3786"
             ],
             [
              0.5555555555555556,
              "#d8576b"
             ],
             [
              0.6666666666666666,
              "#ed7953"
             ],
             [
              0.7777777777777778,
              "#fb9f3a"
             ],
             [
              0.8888888888888888,
              "#fdca26"
             ],
             [
              1,
              "#f0f921"
             ]
            ],
            "type": "histogram2dcontour"
           }
          ],
          "mesh3d": [
           {
            "colorbar": {
             "outlinewidth": 0,
             "ticks": ""
            },
            "type": "mesh3d"
           }
          ],
          "parcoords": [
           {
            "line": {
             "colorbar": {
              "outlinewidth": 0,
              "ticks": ""
             }
            },
            "type": "parcoords"
           }
          ],
          "pie": [
           {
            "automargin": true,
            "type": "pie"
           }
          ],
          "scatter": [
           {
            "fillpattern": {
             "fillmode": "overlay",
             "size": 10,
             "solidity": 0.2
            },
            "type": "scatter"
           }
          ],
          "scatter3d": [
           {
            "line": {
             "colorbar": {
              "outlinewidth": 0,
              "ticks": ""
             }
            },
            "marker": {
             "colorbar": {
              "outlinewidth": 0,
              "ticks": ""
             }
            },
            "type": "scatter3d"
           }
          ],
          "scattercarpet": [
           {
            "marker": {
             "colorbar": {
              "outlinewidth": 0,
              "ticks": ""
             }
            },
            "type": "scattercarpet"
           }
          ],
          "scattergeo": [
           {
            "marker": {
             "colorbar": {
              "outlinewidth": 0,
              "ticks": ""
             }
            },
            "type": "scattergeo"
           }
          ],
          "scattergl": [
           {
            "marker": {
             "colorbar": {
              "outlinewidth": 0,
              "ticks": ""
             }
            },
            "type": "scattergl"
           }
          ],
          "scattermapbox": [
           {
            "marker": {
             "colorbar": {
              "outlinewidth": 0,
              "ticks": ""
             }
            },
            "type": "scattermapbox"
           }
          ],
          "scatterpolar": [
           {
            "marker": {
             "colorbar": {
              "outlinewidth": 0,
              "ticks": ""
             }
            },
            "type": "scatterpolar"
           }
          ],
          "scatterpolargl": [
           {
            "marker": {
             "colorbar": {
              "outlinewidth": 0,
              "ticks": ""
             }
            },
            "type": "scatterpolargl"
           }
          ],
          "scatterternary": [
           {
            "marker": {
             "colorbar": {
              "outlinewidth": 0,
              "ticks": ""
             }
            },
            "type": "scatterternary"
           }
          ],
          "surface": [
           {
            "colorbar": {
             "outlinewidth": 0,
             "ticks": ""
            },
            "colorscale": [
             [
              0,
              "#0d0887"
             ],
             [
              0.1111111111111111,
              "#46039f"
             ],
             [
              0.2222222222222222,
              "#7201a8"
             ],
             [
              0.3333333333333333,
              "#9c179e"
             ],
             [
              0.4444444444444444,
              "#bd3786"
             ],
             [
              0.5555555555555556,
              "#d8576b"
             ],
             [
              0.6666666666666666,
              "#ed7953"
             ],
             [
              0.7777777777777778,
              "#fb9f3a"
             ],
             [
              0.8888888888888888,
              "#fdca26"
             ],
             [
              1,
              "#f0f921"
             ]
            ],
            "type": "surface"
           }
          ],
          "table": [
           {
            "cells": {
             "fill": {
              "color": "#EBF0F8"
             },
             "line": {
              "color": "white"
             }
            },
            "header": {
             "fill": {
              "color": "#C8D4E3"
             },
             "line": {
              "color": "white"
             }
            },
            "type": "table"
           }
          ]
         },
         "layout": {
          "annotationdefaults": {
           "arrowcolor": "#2a3f5f",
           "arrowhead": 0,
           "arrowwidth": 1
          },
          "autotypenumbers": "strict",
          "coloraxis": {
           "colorbar": {
            "outlinewidth": 0,
            "ticks": ""
           }
          },
          "colorscale": {
           "diverging": [
            [
             0,
             "#8e0152"
            ],
            [
             0.1,
             "#c51b7d"
            ],
            [
             0.2,
             "#de77ae"
            ],
            [
             0.3,
             "#f1b6da"
            ],
            [
             0.4,
             "#fde0ef"
            ],
            [
             0.5,
             "#f7f7f7"
            ],
            [
             0.6,
             "#e6f5d0"
            ],
            [
             0.7,
             "#b8e186"
            ],
            [
             0.8,
             "#7fbc41"
            ],
            [
             0.9,
             "#4d9221"
            ],
            [
             1,
             "#276419"
            ]
           ],
           "sequential": [
            [
             0,
             "#0d0887"
            ],
            [
             0.1111111111111111,
             "#46039f"
            ],
            [
             0.2222222222222222,
             "#7201a8"
            ],
            [
             0.3333333333333333,
             "#9c179e"
            ],
            [
             0.4444444444444444,
             "#bd3786"
            ],
            [
             0.5555555555555556,
             "#d8576b"
            ],
            [
             0.6666666666666666,
             "#ed7953"
            ],
            [
             0.7777777777777778,
             "#fb9f3a"
            ],
            [
             0.8888888888888888,
             "#fdca26"
            ],
            [
             1,
             "#f0f921"
            ]
           ],
           "sequentialminus": [
            [
             0,
             "#0d0887"
            ],
            [
             0.1111111111111111,
             "#46039f"
            ],
            [
             0.2222222222222222,
             "#7201a8"
            ],
            [
             0.3333333333333333,
             "#9c179e"
            ],
            [
             0.4444444444444444,
             "#bd3786"
            ],
            [
             0.5555555555555556,
             "#d8576b"
            ],
            [
             0.6666666666666666,
             "#ed7953"
            ],
            [
             0.7777777777777778,
             "#fb9f3a"
            ],
            [
             0.8888888888888888,
             "#fdca26"
            ],
            [
             1,
             "#f0f921"
            ]
           ]
          },
          "colorway": [
           "#636efa",
           "#EF553B",
           "#00cc96",
           "#ab63fa",
           "#FFA15A",
           "#19d3f3",
           "#FF6692",
           "#B6E880",
           "#FF97FF",
           "#FECB52"
          ],
          "font": {
           "color": "#2a3f5f"
          },
          "geo": {
           "bgcolor": "white",
           "lakecolor": "white",
           "landcolor": "#E5ECF6",
           "showlakes": true,
           "showland": true,
           "subunitcolor": "white"
          },
          "hoverlabel": {
           "align": "left"
          },
          "hovermode": "closest",
          "mapbox": {
           "style": "light"
          },
          "paper_bgcolor": "white",
          "plot_bgcolor": "#E5ECF6",
          "polar": {
           "angularaxis": {
            "gridcolor": "white",
            "linecolor": "white",
            "ticks": ""
           },
           "bgcolor": "#E5ECF6",
           "radialaxis": {
            "gridcolor": "white",
            "linecolor": "white",
            "ticks": ""
           }
          },
          "scene": {
           "xaxis": {
            "backgroundcolor": "#E5ECF6",
            "gridcolor": "white",
            "gridwidth": 2,
            "linecolor": "white",
            "showbackground": true,
            "ticks": "",
            "zerolinecolor": "white"
           },
           "yaxis": {
            "backgroundcolor": "#E5ECF6",
            "gridcolor": "white",
            "gridwidth": 2,
            "linecolor": "white",
            "showbackground": true,
            "ticks": "",
            "zerolinecolor": "white"
           },
           "zaxis": {
            "backgroundcolor": "#E5ECF6",
            "gridcolor": "white",
            "gridwidth": 2,
            "linecolor": "white",
            "showbackground": true,
            "ticks": "",
            "zerolinecolor": "white"
           }
          },
          "shapedefaults": {
           "line": {
            "color": "#2a3f5f"
           }
          },
          "ternary": {
           "aaxis": {
            "gridcolor": "white",
            "linecolor": "white",
            "ticks": ""
           },
           "baxis": {
            "gridcolor": "white",
            "linecolor": "white",
            "ticks": ""
           },
           "bgcolor": "#E5ECF6",
           "caxis": {
            "gridcolor": "white",
            "linecolor": "white",
            "ticks": ""
           }
          },
          "title": {
           "x": 0.05
          },
          "xaxis": {
           "automargin": true,
           "gridcolor": "white",
           "linecolor": "white",
           "ticks": "",
           "title": {
            "standoff": 15
           },
           "zerolinecolor": "white",
           "zerolinewidth": 2
          },
          "yaxis": {
           "automargin": true,
           "gridcolor": "white",
           "linecolor": "white",
           "ticks": "",
           "title": {
            "standoff": 15
           },
           "zerolinecolor": "white",
           "zerolinewidth": 2
          }
         }
        },
        "title": {
         "text": "Prediction - SVC.pkl"
        },
        "xaxis": {
         "gridcolor": "LightGrey",
         "gridwidth": 1,
         "showgrid": true
        },
        "yaxis": {
         "autorange": "reversed",
         "gridcolor": "LightGrey",
         "gridwidth": 1,
         "showgrid": true
        }
       }
      }
     },
     "metadata": {},
     "output_type": "display_data"
    }
   ],
   "source": [
    "print(\"Analysing Squat Phase of Tracked Data: \" + tracking_data_path)\n",
    "\n",
    "def plot_movement_data(csv_file_path, title=\"Average Hip Height over Time\"):\n",
    "    # Read the data from the CSV file\n",
    "    data = pd.read_csv(csv_file_path, delimiter=\",\")\n",
    "\n",
    "    # Calculate the average hip height\n",
    "    data[\"Average_Hip_Height\"] = (data[\"Left hip_y\"] + data[\"Right hip_y\"]) / 2\n",
    "\n",
    "    # Create a scatter plot\n",
    "    fig = go.Figure()\n",
    "\n",
    "    # Check if 'Label' column exists and plot accordingly\n",
    "    if 'Label' in data.columns and data['Label'].notna().any():\n",
    "        # Define custom color mapping for movement types\n",
    "        custom_color_mapping = {\n",
    "            \"Pause\": \"orange\",\n",
    "            \"Ascending\": \"green\",\n",
    "            \"Descending\": \"red\",\n",
    "            \"Transition\": \"yellow\",\n",
    "            \"Unknown\": \"grey\",\n",
    "        }\n",
    "\n",
    "        for label, color in custom_color_mapping.items():\n",
    "            mask = data[\"Label\"] == label\n",
    "            fig.add_trace(\n",
    "                go.Scatter(\n",
    "                    x=data.loc[mask, \"Timestamp\"],\n",
    "                    y=data.loc[mask, \"Average_Hip_Height\"],\n",
    "                    mode=\"markers\",\n",
    "                    name=label,\n",
    "                    marker_color=color,\n",
    "                    hovertemplate=\"x: %{x}\",\n",
    "                )\n",
    "            )\n",
    "    else:\n",
    "        # Plot the average hip height over time in blue if no 'Label' column\n",
    "        fig.add_trace(\n",
    "            go.Scatter(\n",
    "                x=data[\"Timestamp\"],\n",
    "                y=data[\"Average_Hip_Height\"],\n",
    "                mode=\"markers\",\n",
    "                name=\"Average Hip Height\",\n",
    "                marker_color=\"blue\",\n",
    "                hovertemplate=\"x: %{x}\",\n",
    "            )\n",
    "        )\n",
    "\n",
    "    # Get the x values of the first and last data points\n",
    "    first_x = data[\"Timestamp\"].iloc[0]\n",
    "    last_x = data[\"Timestamp\"].iloc[-1]\n",
    "\n",
    "    # Add vertical lines at the first and last data points\n",
    "    fig.add_shape(\n",
    "        type=\"line\",\n",
    "        x0=first_x,\n",
    "        y0=0,\n",
    "        x1=first_x,\n",
    "        y1=1,\n",
    "        yref=\"paper\",\n",
    "        line=dict(color=\"Green\", width=2),\n",
    "    )\n",
    "    fig.add_shape(\n",
    "        type=\"line\",\n",
    "        x0=last_x,\n",
    "        y0=0,\n",
    "        x1=last_x,\n",
    "        y1=1,\n",
    "        yref=\"paper\",\n",
    "        line=dict(color=\"Red\", width=2),\n",
    "    )\n",
    "\n",
    "    # Add annotations for the first and last data points\n",
    "    fig.add_annotation(\n",
    "        x=first_x, y=0.05, text=f\"Start: {first_x}\", showarrow=False, yref=\"paper\"\n",
    "    )\n",
    "    fig.add_annotation(\n",
    "        x=last_x, y=0.05, text=f\"End: {last_x}\", showarrow=False, yref=\"paper\"\n",
    "    )\n",
    "\n",
    "    # Increase the number of grid lines\n",
    "    fig.update_xaxes(showgrid=True, gridwidth=1, gridcolor=\"LightGrey\")\n",
    "    fig.update_yaxes(showgrid=True, gridwidth=1, gridcolor=\"LightGrey\", autorange=\"reversed\")\n",
    "\n",
    "    # Remove the light blue background\n",
    "    fig.update_layout(\n",
    "        autosize=True,  \n",
    "        # width=1000,  # Width of the figure in pixels\n",
    "        height=600,  # Height of the figure in pixels\n",
    "        hovermode=\"x\", # Hovermode for the cursor\n",
    "        plot_bgcolor=\"rgba(0,0,0,0)\",\n",
    "        paper_bgcolor=\"rgba(0,0,0,0)\",\n",
    "        title=f\"{title}\"  # Add a title to the plot\n",
    "    )\n",
    "\n",
    "    fig.show()\n",
    "\n",
    "# Model Application Logic\n",
    "def create_sequences(features, window_size):\n",
    "    feature_sequences = []\n",
    "    for i in range(len(features) - window_size + 1):\n",
    "        feature_sequences.append(features.iloc[i:(i + window_size)].values)\n",
    "    return np.array(feature_sequences)\n",
    "\n",
    "# Define a blacklist of models to exclude\n",
    "blacklist = ['imputer.pkl']  # Add model filenames to exclude\n",
    "\n",
    "# Get all the .pkl files from the models directory\n",
    "all_model_files = [f for f in os.listdir(models_dir) if f.endswith('.pkl') and f not in blacklist]\n",
    "\n",
    "# Dropdown for Model Selection\n",
    "model_dropdown = widgets.Dropdown(\n",
    "    options=[(file, os.path.join(models_dir, file)) for file in all_model_files],\n",
    "    description='Model:',\n",
    "    disabled=False,\n",
    ")\n",
    "\n",
    "# Button for Starting Analysis\n",
    "start_analysis_button = widgets.Button(\n",
    "    description='Start Analysis',\n",
    "    button_style='info',\n",
    "    tooltip='Click to start the analysis with the selected model',\n",
    "    icon='play'\n",
    ")\n",
    "\n",
    "# Display the widgets\n",
    "display(model_dropdown, start_analysis_button)\n",
    "\n",
    "# Event Handler for Analysis Button\n",
    "def on_analysis_button_clicked(b):\n",
    "    # Clear the previous outputs\n",
    "    clear_output(wait=True)\n",
    "    display(model_dropdown, start_analysis_button)\n",
    "    \n",
    "    selected_model_path = model_dropdown.value\n",
    "    print(\"Starting analysis with model:\", selected_model_path)\n",
    "    \n",
    "    # Load the tracking data\n",
    "    new_data = pd.read_csv(tracking_data_path)\n",
    "\n",
    "    # Prepare the data as per the model's training conditions\n",
    "    new_data['Left hip_y_diff'] = new_data['Left hip_y'].diff().fillna(0)\n",
    "    new_data['Right hip_y_diff'] = new_data['Right hip_y'].diff().fillna(0)\n",
    "\n",
    "    # If the new data includes the 'Label' column, drop it\n",
    "    if \"Label\" in new_data.columns:\n",
    "        new_data = new_data.drop(\"Label\", axis=1)\n",
    "\n",
    "    required_features = ['Left hip_y', 'Right hip_y']\n",
    "    new_data_for_sequences = new_data[required_features]\n",
    "\n",
    "    # Create sequences from the new data\n",
    "    window_size = 4  # Ensure this matches the window size used during training\n",
    "    new_data_sequences = create_sequences(new_data_for_sequences, window_size)\n",
    "\n",
    "    # Flatten the sequences for compatibility with traditional models\n",
    "    new_data_flat = new_data_sequences.reshape(new_data_sequences.shape[0], -1)\n",
    "\n",
    "    # Load the fitted imputer if needed and apply it to the flattened new data\n",
    "    imputer_path = os.path.join(models_dir, 'imputer.pkl')\n",
    "    if os.path.exists(imputer_path):\n",
    "        imputer = joblib.load(imputer_path)\n",
    "        new_data_imputed = imputer.transform(new_data_flat)\n",
    "    else:\n",
    "        new_data_imputed = new_data_flat\n",
    "\n",
    "    # Load the selected model and make predictions\n",
    "    loaded_model = joblib.load(selected_model_path)\n",
    "    predictions = loaded_model.predict(new_data_imputed)\n",
    "\n",
    "    # Handle predictions (e.g., assigning predictions to the last element of each sequence)\n",
    "    for i, prediction in enumerate(predictions):\n",
    "        if i + window_size - 1 < len(new_data):\n",
    "            new_data.at[i + window_size - 1, 'Label'] = prediction\n",
    "\n",
    "    # Save the DataFrame with the new labels back to a CSV file in the new data subfolder\n",
    "    predicted_file_name = f\"{os.path.basename(tracking_data_path[:-4])}_{os.path.splitext(os.path.basename(selected_model_path))[0]}_predicted.csv\"\n",
    "    predicted_file_dir = os.path.join(predictions_path, os.path.basename(tracking_data_path[:-4]))\n",
    "    predicted_file_path = os.path.join(predicted_file_dir, predicted_file_name)\n",
    "\n",
    "    # Create the new data directory if it doesn't exist\n",
    "    if not os.path.exists(predicted_file_dir):\n",
    "        os.makedirs(predicted_file_dir)\n",
    "    \n",
    "    new_data.to_csv(predicted_file_path, index=False)\n",
    "\n",
    "    print(f\"Predictions using {os.path.basename(selected_model_path)} saved to {predicted_file_path}\")\n",
    "\n",
    "    # Plot the new data with predictions\n",
    "    plot_movement_data(predicted_file_path, title=f\"Prediction - {os.path.basename(selected_model_path)}\")\n",
    "\n",
    "# Attach the event handler to the button\n",
    "start_analysis_button.on_click(on_analysis_button_clicked)\n",
    "\n"
   ]
  },
  {
   "cell_type": "markdown",
   "metadata": {},
   "source": [
    "# Model Training (sequencial, time distributed)"
   ]
  },
  {
   "cell_type": "code",
   "execution_count": null,
   "metadata": {},
   "outputs": [],
   "source": []
  }
 ],
 "metadata": {
  "kernelspec": {
   "display_name": "Python 3",
   "language": "python",
   "name": "python3"
  },
  "language_info": {
   "codemirror_mode": {
    "name": "ipython",
    "version": 3
   },
   "file_extension": ".py",
   "mimetype": "text/x-python",
   "name": "python",
   "nbconvert_exporter": "python",
   "pygments_lexer": "ipython3",
   "version": "3.9.6"
  }
 },
 "nbformat": 4,
 "nbformat_minor": 2
}
