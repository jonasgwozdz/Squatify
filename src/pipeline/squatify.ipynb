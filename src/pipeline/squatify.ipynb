{
 "cells": [
  {
   "cell_type": "code",
   "execution_count": null,
   "metadata": {},
   "outputs": [
    {
     "data": {
      "application/vnd.jupyter.widget-view+json": {
       "model_id": "25090318f2c54cd8957cd4cfb01d5e27",
       "version_major": 2,
       "version_minor": 0
      },
      "text/plain": [
       "Dropdown(description='Select Video:', options=('20220520_150630.mp4', 'test_squat.mp4', 'IMG_9291.MOV'), value…"
      ]
     },
     "metadata": {},
     "output_type": "display_data"
    }
   ],
   "source": [
    "import os\n",
    "import ipywidgets as widgets\n",
    "from IPython.display import display\n",
    "\n",
    "# configuration\n",
    "video_dir = './input_videos'\n",
    "tracking_data_dir = './tracking_data'\n",
    "output_video_dir = './output_videos'\n",
    "\n",
    "# Ensure all directories exist\n",
    "dirs_to_check = [video_dir, tracking_data_dir, output_video_dir]\n",
    "for dir in dirs_to_check:\n",
    "    if not os.path.exists(dir):\n",
    "        os.makedirs(dir)\n",
    "        print(f\"Directory created: {dir}\")\n",
    "\n",
    "# Function to select a video using an interactive widget\n",
    "def interactive_select_video(video_dir):\n",
    "    video_files = [f for f in os.listdir(video_dir) if f.endswith(('.mov', '.MOV', '.mp4'))]\n",
    "    if not video_files:\n",
    "        print(\"No video files found in the directory.\")\n",
    "        return None\n",
    "    video_selector = widgets.Dropdown(\n",
    "        options=video_files,\n",
    "        description='Select Video:',\n",
    "        disabled=False,\n",
    "    )\n",
    "    display(video_selector)\n",
    "    return video_selector\n",
    "\n",
    "# Use the interactive selection component to select a video\n",
    "video_selector = interactive_select_video(video_dir)\n"
   ]
  },
  {
   "cell_type": "code",
   "execution_count": 6,
   "metadata": {},
   "outputs": [
    {
     "name": "stderr",
     "output_type": "stream",
     "text": [
      "INFO:root:Processing video: IMG_9291.MOV\n",
      "INFO:root:Tracking data for IMG_9291.MOV stored in ./tracking_data/Tracking_IMG_9291.csv\n"
     ]
    }
   ],
   "source": [
    "\n",
    "from tracking.video_processing_pipeline import process_video, body_parts\n",
    "\n",
    "# Track the selected video\n",
    "try:\n",
    "    selected_video = video_selector.value\n",
    "except AttributeError:\n",
    "    print(\"No video was selected.\")\n",
    "    selected_video = None\n",
    "\n",
    "if selected_video:\n",
    "    # Process the selected video\n",
    "    process_video(selected_video, video_dir, tracking_data_dir)\n",
    "\n",
    "    # set the path to the tracking data file\n",
    "    tracking_data_file = f'Tracking_{selected_video[:-4]}.csv'"
   ]
  },
  {
   "cell_type": "code",
   "execution_count": 7,
   "metadata": {},
   "outputs": [
    {
     "name": "stdout",
     "output_type": "stream",
     "text": [
      "Video saved to ./output_videos/IMG_9291_landmarks.mp4\n"
     ]
    },
    {
     "data": {
      "text/html": [
       "\n",
       "Video saved to \n",
       "<a href='./output_videos/IMG_9291_landmarks.mp4' target='_blank'>./output_videos/IMG_9291_landmarks.mp4</a> <br><br>\n",
       "<video height=\"500\" controls allowfullscreen>\n",
       "  <source src=\"./output_videos/IMG_9291_landmarks.mp4\" type=\"video/mp4\">\n",
       "Your browser does not support the video tag.\n",
       "</video>\n"
      ],
      "text/plain": [
       "<IPython.core.display.HTML object>"
      ]
     },
     "metadata": {},
     "output_type": "display_data"
    }
   ],
   "source": [
    "# Generate Video Tracking Preview\n",
    "import pandas as pd\n",
    "import os\n",
    "import cv2\n",
    "import mediapipe as mp\n",
    "from IPython.display import Video, HTML\n",
    "\n",
    "# Function to save video with landmarks from tracking data\n",
    "def save_landmarks_on_video(video_path, output_video_path, tracking_data_path):\n",
    "    # Initialize MediaPipe Pose\n",
    "    mp_pose = mp.solutions.pose\n",
    "    mp_drawing = mp.solutions.drawing_utils\n",
    "\n",
    "    # Open the video file\n",
    "    cap = cv2.VideoCapture(video_path)\n",
    "    \n",
    "    # Check if video opened successfully\n",
    "    if not cap.isOpened():\n",
    "        print(\"Error: Could not open video.\")\n",
    "        return\n",
    "\n",
    "    # Get the width, height, and frame rate of the video frame\n",
    "    width = int(cap.get(cv2.CAP_PROP_FRAME_WIDTH))\n",
    "    height = int(cap.get(cv2.CAP_PROP_FRAME_HEIGHT))\n",
    "    fps = cap.get(cv2.CAP_PROP_FPS)\n",
    "\n",
    "    # Read the tracking data from CSV\n",
    "    tracking_data = pd.read_csv(tracking_data_path)\n",
    "\n",
    "    # Define the codec and create VideoWriter object\n",
    "    fourcc = cv2.VideoWriter_fourcc(*'avc1')  # or 'XVID'\n",
    "    out = cv2.VideoWriter(output_video_path, fourcc, fps, (width, height))\n",
    "\n",
    "    # Process video and draw landmarks from tracking data\n",
    "    for index, row in tracking_data.iterrows():\n",
    "        # Read frame from video\n",
    "        ret, frame = cap.read()\n",
    "        if not ret:\n",
    "            break\n",
    "\n",
    "        # Draw landmarks on the frame\n",
    "        for landmark in mp.solutions.pose.PoseLandmark:\n",
    "            landmark_name = landmark.name.lower().replace('_', ' ')  # Convert to lowercase and replace underscores with spaces\n",
    "            landmark_name = landmark_name.capitalize()  # Capitalize only the first letter of the first word\n",
    "            landmark_x = f'{landmark_name}_x'\n",
    "            landmark_y = f'{landmark_name}_y'\n",
    "            if landmark_x in tracking_data.columns and landmark_y in tracking_data.columns and not pd.isna(row[landmark_x]) and not pd.isna(row[landmark_y]):\n",
    "                x = int(row[landmark_x] * width)\n",
    "                y = int(row[landmark_y] * height)\n",
    "                # Check if the current landmark is one of the hips\n",
    "                if landmark in [mp.solutions.pose.PoseLandmark.LEFT_HIP, mp.solutions.pose.PoseLandmark.RIGHT_HIP]:\n",
    "                    # Highlight hips in red\n",
    "                    cv2.circle(frame, (x, y), 5, (0, 0, 255), -1)\n",
    "                else:\n",
    "                    # Draw other landmarks in green\n",
    "                    cv2.circle(frame, (x, y), 5, (0, 255, 0), -1)\n",
    "\n",
    "\n",
    "        # Write the frame with landmarks to the output video file\n",
    "        out.write(frame)\n",
    "\n",
    "    # Release everything when job is finished\n",
    "    cap.release()\n",
    "    out.release()\n",
    "    cv2.destroyAllWindows()\n",
    "    print(f\"Video saved to {output_video_path}\")\n",
    "\n",
    "# Call the function to save the video with landmarks\n",
    "video_path = os.path.join(video_dir, selected_video)\n",
    "\n",
    "# Prepare the output video path\n",
    "video_name = os.path.basename(video_path)\n",
    "output_video_name = os.path.splitext(video_name)[0] + \"_landmarks.mp4\"\n",
    "output_video_path = os.path.join(output_video_dir, output_video_name)\n",
    "tracking_data_path = os.path.join(tracking_data_dir, tracking_data_file)\n",
    "save_landmarks_on_video(video_path, output_video_path, tracking_data_path)\n",
    "\n",
    "# Output\n",
    "# Create an HTML string with the video embedded\n",
    "video_html = f'''\n",
    "Video saved to \n",
    "<a href='{output_video_path}' target='_blank'>{output_video_path}</a> <br><br>\n",
    "<video height=\"500\" controls allowfullscreen>\n",
    "  <source src=\"{output_video_path}\" type=\"video/mp4\">\n",
    "Your browser does not support the video tag.\n",
    "</video>\n",
    "'''\n",
    "display(HTML(video_html))"
   ]
  }
 ],
 "metadata": {
  "kernelspec": {
   "display_name": "Python 3",
   "language": "python",
   "name": "python3"
  },
  "language_info": {
   "codemirror_mode": {
    "name": "ipython",
    "version": 3
   },
   "file_extension": ".py",
   "mimetype": "text/x-python",
   "name": "python",
   "nbconvert_exporter": "python",
   "pygments_lexer": "ipython3",
   "version": "3.9.6"
  }
 },
 "nbformat": 4,
 "nbformat_minor": 2
}
