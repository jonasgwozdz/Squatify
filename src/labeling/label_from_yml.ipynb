{
 "cells": [
  {
   "cell_type": "code",
   "execution_count": 1,
   "metadata": {},
   "outputs": [],
   "source": [
    "import pandas as pd\n",
    "import yaml\n",
    "from glob import glob\n",
    "import os\n",
    "\n",
    "\n",
    "# Function to process a single file\n",
    "def process_file(yaml_path, csv_dir):\n",
    "    # Load the YAML file\n",
    "    with open(yaml_path, \"r\") as file:\n",
    "        ranges = yaml.safe_load(file)\n",
    "\n",
    "    # Construct the CSV file path\n",
    "    yaml_name = os.path.basename(yaml_path)\n",
    "    yaml_name_without_extension = os.path.splitext(yaml_name)[0]\n",
    "    csv_path = os.path.join(\n",
    "        csv_dir, f\"Tracking_{yaml_name_without_extension}_labled.csv\"\n",
    "    )\n",
    "\n",
    "    # Load the DataFrame\n",
    "    df = pd.read_csv(csv_path)\n",
    "\n",
    "    # Add a 'Label' column filled with 'Pause'\n",
    "    df[\"Label\"] = \"Pause\"\n",
    "\n",
    "    # Update the 'Label' column based on the ranges in the YAML file\n",
    "    # Update the 'Label' column based on the ranges in the YAML file\n",
    "    for label in [\"Ascending\", \"Descending\"]:\n",
    "        for range_str in ranges[label]:\n",
    "            start, end = map(int, range_str.split(\"-\"))\n",
    "            df.loc[(df[\"Timestamp\"] >= start) & (df[\"Timestamp\"] <= end), \"Label\"] = label\n",
    "\n",
    "    # Save the updated DataFrame\n",
    "    df.to_csv(csv_path, index=False)\n",
    "\n",
    "# Specify the paths of the YAML and CSV files\n",
    "yaml_dir = \"labels/\"\n",
    "csv_dir = \"../../data/training/labled_data/\"\n",
    "\n",
    "# Get the list of YAML files\n",
    "yaml_files = glob(f\"{yaml_dir}/*.yaml\")\n",
    "\n",
    "# Process all files\n",
    "for yaml_path in yaml_files:\n",
    "    process_file(yaml_path, csv_dir)"
   ]
  }
 ],
 "metadata": {
  "kernelspec": {
   "display_name": "Python 3",
   "language": "python",
   "name": "python3"
  },
  "language_info": {
   "codemirror_mode": {
    "name": "ipython",
    "version": 3
   },
   "file_extension": ".py",
   "mimetype": "text/x-python",
   "name": "python",
   "nbconvert_exporter": "python",
   "pygments_lexer": "ipython3",
   "version": "3.9.6"
  }
 },
 "nbformat": 4,
 "nbformat_minor": 2
}
